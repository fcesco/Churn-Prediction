{
 "metadata": {
  "name": "",
  "signature": "sha256:c035a9849a1250fe80a76812ff2941fdb3f01d371d366c335e7e8b722fec7f16"
 },
 "nbformat": 3,
 "nbformat_minor": 0,
 "worksheets": [
  {
   "cells": [
    {
     "cell_type": "code",
     "collapsed": false,
     "input": [
      "sc"
     ],
     "language": "python",
     "metadata": {},
     "outputs": [
      {
       "output_type": "stream",
       "stream": "stderr",
       "text": [
        "ERROR:py4j.java_gateway:An error occurred while trying to connect to the Java server (127.0.0.1:35191)\n",
        "Traceback (most recent call last):\n",
        "  File \"/usr/local/lib/python2.7/site-packages/py4j-0.9.2-py2.7.egg/py4j/java_gateway.py\", line 713, in start\n",
        "    self.socket.connect((self.address, self.port))\n",
        "  File \"/usr/lib64/python2.7/socket.py\", line 228, in meth\n",
        "    return getattr(self._sock,name)(*args)\n",
        "error: [Errno 111] Connection refused\n"
       ]
      },
      {
       "output_type": "stream",
       "stream": "stderr",
       "text": [
        "ERROR:py4j.java_gateway:An error occurred while trying to connect to the Java server (127.0.0.1:35191)\n",
        "Traceback (most recent call last):\n",
        "  File \"/usr/local/lib/python2.7/site-packages/py4j-0.9.2-py2.7.egg/py4j/java_gateway.py\", line 713, in start\n",
        "    self.socket.connect((self.address, self.port))\n",
        "  File \"/usr/lib64/python2.7/socket.py\", line 228, in meth\n",
        "    return getattr(self._sock,name)(*args)\n",
        "error: [Errno 111] Connection refused\n"
       ]
      },
      {
       "output_type": "stream",
       "stream": "stderr",
       "text": [
        "ERROR:py4j.java_gateway:An error occurred while trying to connect to the Java server (127.0.0.1:35191)\n",
        "Traceback (most recent call last):\n",
        "  File \"/usr/local/lib/python2.7/site-packages/py4j-0.9.2-py2.7.egg/py4j/java_gateway.py\", line 713, in start\n",
        "    self.socket.connect((self.address, self.port))\n",
        "  File \"/usr/lib64/python2.7/socket.py\", line 228, in meth\n",
        "    return getattr(self._sock,name)(*args)\n",
        "error: [Errno 111] Connection refused\n"
       ]
      },
      {
       "output_type": "stream",
       "stream": "stderr",
       "text": [
        "ERROR:py4j.java_gateway:An error occurred while trying to connect to the Java server (127.0.0.1:35191)\n",
        "Traceback (most recent call last):\n",
        "  File \"/usr/local/lib/python2.7/site-packages/py4j-0.9.2-py2.7.egg/py4j/java_gateway.py\", line 713, in start\n",
        "    self.socket.connect((self.address, self.port))\n",
        "  File \"/usr/lib64/python2.7/socket.py\", line 228, in meth\n",
        "    return getattr(self._sock,name)(*args)\n",
        "error: [Errno 111] Connection refused\n"
       ]
      },
      {
       "output_type": "stream",
       "stream": "stderr",
       "text": [
        "ERROR:py4j.java_gateway:An error occurred while trying to connect to the Java server (127.0.0.1:35191)\n",
        "Traceback (most recent call last):\n",
        "  File \"/usr/local/lib/python2.7/site-packages/py4j-0.9.2-py2.7.egg/py4j/java_gateway.py\", line 713, in start\n",
        "    self.socket.connect((self.address, self.port))\n",
        "  File \"/usr/lib64/python2.7/socket.py\", line 228, in meth\n",
        "    return getattr(self._sock,name)(*args)\n",
        "error: [Errno 111] Connection refused\n"
       ]
      },
      {
       "output_type": "stream",
       "stream": "stderr",
       "text": [
        "ERROR:py4j.java_gateway:An error occurred while trying to connect to the Java server (127.0.0.1:35191)\n",
        "Traceback (most recent call last):\n",
        "  File \"/usr/local/lib/python2.7/site-packages/py4j-0.9.2-py2.7.egg/py4j/java_gateway.py\", line 713, in start\n",
        "    self.socket.connect((self.address, self.port))\n",
        "  File \"/usr/lib64/python2.7/socket.py\", line 228, in meth\n",
        "    return getattr(self._sock,name)(*args)\n",
        "error: [Errno 111] Connection refused\n"
       ]
      },
      {
       "output_type": "stream",
       "stream": "stderr",
       "text": [
        "ERROR:py4j.java_gateway:An error occurred while trying to connect to the Java server (127.0.0.1:35191)\n",
        "Traceback (most recent call last):\n",
        "  File \"/usr/local/lib/python2.7/site-packages/py4j-0.9.2-py2.7.egg/py4j/java_gateway.py\", line 713, in start\n",
        "    self.socket.connect((self.address, self.port))\n",
        "  File \"/usr/lib64/python2.7/socket.py\", line 228, in meth\n",
        "    return getattr(self._sock,name)(*args)\n",
        "error: [Errno 111] Connection refused\n"
       ]
      },
      {
       "output_type": "stream",
       "stream": "stderr",
       "text": [
        "ERROR:py4j.java_gateway:An error occurred while trying to connect to the Java server (127.0.0.1:35191)\n",
        "Traceback (most recent call last):\n",
        "  File \"/usr/local/lib/python2.7/site-packages/py4j-0.9.2-py2.7.egg/py4j/java_gateway.py\", line 713, in start\n",
        "    self.socket.connect((self.address, self.port))\n",
        "  File \"/usr/lib64/python2.7/socket.py\", line 228, in meth\n",
        "    return getattr(self._sock,name)(*args)\n",
        "error: [Errno 111] Connection refused\n"
       ]
      },
      {
       "output_type": "stream",
       "stream": "stderr",
       "text": [
        "ERROR:py4j.java_gateway:An error occurred while trying to connect to the Java server (127.0.0.1:35191)\n",
        "Traceback (most recent call last):\n",
        "  File \"/usr/local/lib/python2.7/site-packages/py4j-0.9.2-py2.7.egg/py4j/java_gateway.py\", line 713, in start\n",
        "    self.socket.connect((self.address, self.port))\n",
        "  File \"/usr/lib64/python2.7/socket.py\", line 228, in meth\n",
        "    return getattr(self._sock,name)(*args)\n",
        "error: [Errno 111] Connection refused\n"
       ]
      },
      {
       "output_type": "stream",
       "stream": "stderr",
       "text": [
        "ERROR:py4j.java_gateway:An error occurred while trying to connect to the Java server (127.0.0.1:35191)\n",
        "Traceback (most recent call last):\n",
        "  File \"/usr/local/lib/python2.7/site-packages/py4j-0.9.2-py2.7.egg/py4j/java_gateway.py\", line 713, in start\n",
        "    self.socket.connect((self.address, self.port))\n",
        "  File \"/usr/lib64/python2.7/socket.py\", line 228, in meth\n",
        "    return getattr(self._sock,name)(*args)\n",
        "error: [Errno 111] Connection refused\n"
       ]
      },
      {
       "metadata": {},
       "output_type": "pyout",
       "prompt_number": 1,
       "text": [
        "''"
       ]
      }
     ],
     "prompt_number": 1
    },
    {
     "cell_type": "code",
     "collapsed": false,
     "input": [],
     "language": "python",
     "metadata": {},
     "outputs": []
    }
   ],
   "metadata": {}
  }
 ]
}